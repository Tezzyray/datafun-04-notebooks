{
 "cells": [
  {
   "cell_type": "code",
   "execution_count": 4,
   "id": "ed55b694-142a-42e4-87d6-e6bd4141f443",
   "metadata": {},
   "outputs": [],
   "source": [
    "import pandas as pd"
   ]
  },
  {
   "cell_type": "code",
   "execution_count": 6,
   "id": "0640c69b-a4a5-4669-8ebc-8d086d1f929e",
   "metadata": {},
   "outputs": [],
   "source": [
    "grades=pd.Series([10,20,25,30,35,40,45,50])"
   ]
  },
  {
   "cell_type": "code",
   "execution_count": 7,
   "id": "fc1ade8d-2043-4f05-b5e0-3d086c39ee4e",
   "metadata": {},
   "outputs": [
    {
     "data": {
      "text/plain": [
       "0    10\n",
       "1    20\n",
       "2    25\n",
       "3    30\n",
       "4    35\n",
       "5    40\n",
       "6    45\n",
       "7    50\n",
       "dtype: int64"
      ]
     },
     "execution_count": 7,
     "metadata": {},
     "output_type": "execute_result"
    }
   ],
   "source": [
    "grades"
   ]
  },
  {
   "cell_type": "raw",
   "id": "55004766-ecc1-4b4b-85cb-079f5d0a1c78",
   "metadata": {},
   "source": [
    "grades[0]"
   ]
  },
  {
   "cell_type": "code",
   "execution_count": 10,
   "id": "d1fc3fd3-db28-4679-ac8f-dc9ced3bd25e",
   "metadata": {},
   "outputs": [
    {
     "data": {
      "text/plain": [
       "8"
      ]
     },
     "execution_count": 10,
     "metadata": {},
     "output_type": "execute_result"
    }
   ],
   "source": [
    "grades.count()"
   ]
  },
  {
   "cell_type": "code",
   "execution_count": 11,
   "id": "f16be1a8-0443-4f15-9a05-5bbc2354b7d6",
   "metadata": {},
   "outputs": [
    {
     "data": {
      "text/plain": [
       "31.875"
      ]
     },
     "execution_count": 11,
     "metadata": {},
     "output_type": "execute_result"
    }
   ],
   "source": [
    "grades.mean()"
   ]
  },
  {
   "cell_type": "code",
   "execution_count": 12,
   "id": "ddc0dbf7-a4e3-42b5-8aaf-3a4a78f95e11",
   "metadata": {},
   "outputs": [
    {
     "data": {
      "text/plain": [
       "10"
      ]
     },
     "execution_count": 12,
     "metadata": {},
     "output_type": "execute_result"
    }
   ],
   "source": [
    "grades.min()\n"
   ]
  },
  {
   "cell_type": "code",
   "execution_count": 13,
   "id": "3653afae-e378-4176-8c9a-1dc10a9995b7",
   "metadata": {},
   "outputs": [
    {
     "data": {
      "text/plain": [
       "50"
      ]
     },
     "execution_count": 13,
     "metadata": {},
     "output_type": "execute_result"
    }
   ],
   "source": [
    "grades.max()"
   ]
  },
  {
   "cell_type": "code",
   "execution_count": 14,
   "id": "11a67caf-93c7-46db-b870-e843a05147a9",
   "metadata": {},
   "outputs": [
    {
     "data": {
      "text/plain": [
       "13.346347815039138"
      ]
     },
     "execution_count": 14,
     "metadata": {},
     "output_type": "execute_result"
    }
   ],
   "source": [
    "grades.std()"
   ]
  },
  {
   "cell_type": "code",
   "execution_count": 16,
   "id": "fec0786e-a579-44e7-8485-bdf1c80fa104",
   "metadata": {},
   "outputs": [
    {
     "data": {
      "text/plain": [
       "count     8.000000\n",
       "mean     31.875000\n",
       "std      13.346348\n",
       "min      10.000000\n",
       "25%      23.750000\n",
       "50%      32.500000\n",
       "75%      41.250000\n",
       "max      50.000000\n",
       "dtype: float64"
      ]
     },
     "execution_count": 16,
     "metadata": {},
     "output_type": "execute_result"
    }
   ],
   "source": [
    "grades.describe()"
   ]
  },
  {
   "cell_type": "code",
   "execution_count": 17,
   "id": "efa80af3-47f9-4d43-988a-16ce2540c479",
   "metadata": {},
   "outputs": [],
   "source": [
    "###### TASK 2"
   ]
  },
  {
   "cell_type": "code",
   "execution_count": 18,
   "id": "cd773f57-ec53-43a2-928c-bfa00f0f1bcb",
   "metadata": {},
   "outputs": [],
   "source": [
    "grades=pd.Series({'Wally': 30, 'Eva':35, 'John': 45, 'Amelie':100})"
   ]
  },
  {
   "cell_type": "code",
   "execution_count": 19,
   "id": "5b597abd-1108-4a16-ad3b-715fc949277d",
   "metadata": {},
   "outputs": [
    {
     "data": {
      "text/plain": [
       "Wally      30\n",
       "Eva        35\n",
       "John       45\n",
       "Amelie    100\n",
       "dtype: int64"
      ]
     },
     "execution_count": 19,
     "metadata": {},
     "output_type": "execute_result"
    }
   ],
   "source": [
    "grades"
   ]
  },
  {
   "cell_type": "code",
   "execution_count": 20,
   "id": "d32f1107-7d77-4524-ad42-08cd0c611a45",
   "metadata": {},
   "outputs": [
    {
     "data": {
      "text/plain": [
       "35"
      ]
     },
     "execution_count": 20,
     "metadata": {},
     "output_type": "execute_result"
    }
   ],
   "source": [
    "grades['Eva']"
   ]
  },
  {
   "cell_type": "code",
   "execution_count": 21,
   "id": "6dff8bf9-d6aa-4ca1-919c-1a257a433481",
   "metadata": {},
   "outputs": [
    {
     "data": {
      "text/plain": [
       "30"
      ]
     },
     "execution_count": 21,
     "metadata": {},
     "output_type": "execute_result"
    }
   ],
   "source": [
    "grades.Wally"
   ]
  },
  {
   "cell_type": "code",
   "execution_count": null,
   "id": "bb95e065-43a3-421b-9223-d621cc7ccd30",
   "metadata": {},
   "outputs": [],
   "source": []
  }
 ],
 "metadata": {
  "kernelspec": {
   "display_name": "Python 3 (ipykernel)",
   "language": "python",
   "name": "python3"
  },
  "language_info": {
   "codemirror_mode": {
    "name": "ipython",
    "version": 3
   },
   "file_extension": ".py",
   "mimetype": "text/x-python",
   "name": "python",
   "nbconvert_exporter": "python",
   "pygments_lexer": "ipython3",
   "version": "3.10.8"
  }
 },
 "nbformat": 4,
 "nbformat_minor": 5
}
